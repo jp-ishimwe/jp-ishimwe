{
 "cells": [
  {
   "cell_type": "code",
   "execution_count": 22,
   "metadata": {},
   "outputs": [],
   "source": [
    "from sklearn.base import TransformerMixin, ClassifierMixin\n",
    "import numpy as np\n",
    "from sklearn.datasets import load_iris"
   ]
  },
  {
   "cell_type": "code",
   "execution_count": 126,
   "metadata": {},
   "outputs": [],
   "source": [
    "class Knn(ClassifierMixin, TransformerMixin):\n",
    "    \n",
    "    def __init__(self,k):\n",
    "        '''\n",
    "        initialization of k-neighbor you want to use.\n",
    "        '''\n",
    "        self.k = k\n",
    "    def fit(self, X, y):\n",
    "        '''\n",
    "        training the algorithm, \n",
    "        The algorithm works only by memorizing the training label to use for \n",
    "        the prediction of unseen data.\n",
    "        '''\n",
    "        self.Xtr = X\n",
    "        self.ytr = y\n",
    "        return self\n",
    "        \n",
    "    def predict(self, X):\n",
    "        '''\n",
    "        Class label prediction\n",
    "        '''\n",
    "        clas = np.zeros((X.shape[0],1))\n",
    "       \n",
    "        for i in range(X.shape[0]):\n",
    "            dis = np.sqrt(np.sum(np.square(self.Xtr - X[i,:]), axis = 1)) # distance calculation using \n",
    "                                                                        #eucledian dist(L2)\n",
    "            #dis = np.sum(np.abs(self.Xtr - X[i,:]), axis = 1) # you can also use the L1 dist\n",
    "            ind = dis.argsort()\n",
    "            close_label = (self.ytr[ind][:self.k]).astype(int)          \n",
    "            cl = np.bincount(close_label).argmax()\n",
    "            clas[i] = cl\n",
    "        return clas      "
   ]
  },
  {
   "cell_type": "code",
   "execution_count": 127,
   "metadata": {},
   "outputs": [],
   "source": [
    "X,y = load_iris(return_X_y=True)"
   ]
  },
  {
   "cell_type": "code",
   "execution_count": 149,
   "metadata": {},
   "outputs": [],
   "source": [
    "knn = Knn(k=15)"
   ]
  },
  {
   "cell_type": "code",
   "execution_count": 150,
   "metadata": {},
   "outputs": [
    {
     "data": {
      "text/plain": [
       "<__main__.Knn at 0x7f29aabce828>"
      ]
     },
     "execution_count": 150,
     "metadata": {},
     "output_type": "execute_result"
    }
   ],
   "source": [
    "knn.fit(X,y)"
   ]
  },
  {
   "cell_type": "code",
   "execution_count": 151,
   "metadata": {},
   "outputs": [],
   "source": [
    "pred = knn.predict(X)"
   ]
  },
  {
   "cell_type": "code",
   "execution_count": 152,
   "metadata": {
    "scrolled": true
   },
   "outputs": [
    {
     "data": {
      "text/plain": [
       "0.9866666666666667"
      ]
     },
     "execution_count": 152,
     "metadata": {},
     "output_type": "execute_result"
    }
   ],
   "source": [
    "knn.score(X,y)"
   ]
  },
  {
   "cell_type": "code",
   "execution_count": null,
   "metadata": {},
   "outputs": [],
   "source": []
  }
 ],
 "metadata": {
  "kernelspec": {
   "display_name": "Python 3",
   "language": "python",
   "name": "python3"
  },
  "language_info": {
   "codemirror_mode": {
    "name": "ipython",
    "version": 3
   },
   "file_extension": ".py",
   "mimetype": "text/x-python",
   "name": "python",
   "nbconvert_exporter": "python",
   "pygments_lexer": "ipython3",
   "version": "3.7.3"
  }
 },
 "nbformat": 4,
 "nbformat_minor": 2
}
